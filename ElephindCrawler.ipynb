{
 "cells": [
  {
   "cell_type": "markdown",
   "metadata": {},
   "source": [
    "# Crawler and Scraping from scratch tutorial\n",
    "\n",
    "***Author: Tuomas Takko, tuomas (at) fna (dot) fi***\n",
    "\n",
    "In this brief tutorial I'll describe the process of scraping a completely new site for text resources. First we'll start by identifying the elements in the URL and on the corresponding page and then move on to constructing a simple \"crawler\" or ad hoc API.\n",
    "\n",
    "The example site I'll be referring to is Elephind, which contains a search for browsing historical news articles. The site can be a great source of news text from the time when print media was the major source of news.\n",
    "\n",
    "Hopefully this tutorial gives you some tips and tricks for other sites as well!\n",
    "\n",
    "**Let's get started!**\n"
   ]
  },
  {
   "cell_type": "code",
   "execution_count": 43,
   "metadata": {},
   "outputs": [],
   "source": [
    "# Imports\n",
    "import re\n",
    "import sys\n",
    "import csv\n",
    "import os\n",
    "import string\n",
    "import time\n",
    "from bs4 import BeautifulSoup\n",
    "import urllib\n",
    "import requests"
   ]
  },
  {
   "cell_type": "markdown",
   "metadata": {},
   "source": [
    "## Identifying the URL and search\n",
    "\n",
    "The base URL for Elephind is https://elephind.com/ and by using the search with query \"REIT\" OR \"real estate investment trust\" a script on the page redirects us to another URL:\n",
    "\n",
    "https://elephind.com/?a=q&results=1&r=11&e=--1980---2020--en-10--2--txt-txINtxCO-%22REIT%22+OR+%22real+estate+investment+trust%22------US---\n",
    "\n",
    "From this URL we can identify the query, the results page number and number of elements for each page. The identification is done by playing around the page and observing changes in the URL.\n",
    "\n",
    "**Lets break it down:**\n",
    "\n",
    "1. https://elephind.com/ (Base)\n",
    "\n",
    "1. ?a=q&r=1 (Starting index of links on page, starts from 1, increments by \"o\")\n",
    "\n",
    "1. &results=1 (Page number)\n",
    "\n",
    "1. &o=10 (Number of results per page)\n",
    "\n",
    "1. &e=--1980---2020--en-100--1--txt-txINtxCO- (Time span)\n",
    "\n",
    "1. \"REIT\"+OR+\"real+estate+investment+trust\"------US--- (Our query string and country)\n",
    "\n",
    "Next we'll do investigation by opening one search result page and inspecting it using the developer tools in our browser of choice. I'm using Chrome but any browser should do the trick. This is the part where having a basic knowledge of HTML becomes handy.\n",
    "\n",
    "Using the highlighting function we can see that each result has a link to an external site and the link is behind a div element with class name elephind_querymaindiv. Under that element we have several links but we can just scrape the first one into our list of links. The link is under the first 'a' element in the href field.\n"
   ]
  },
  {
   "cell_type": "code",
   "execution_count": 20,
   "metadata": {},
   "outputs": [],
   "source": [
    "'''\n",
    "Scraper for getting a specific page of an Elephind query into links of sources.\n",
    "\n",
    "This can be looped for getting all the article links.\n",
    "\n",
    "'''\n",
    "\n",
    "def get_elephindpage(query, pagenumber, numperpage=10):\n",
    "    firstindex = 1+(pagenumber-1)*numperpage\n",
    "    querytoURL = query.replace(' ','+').replace('%22','\"')\n",
    "    \n",
    "    urlbase = \"https://elephind.com/?a=q&results=1&r=\"+str(firstindex)\n",
    "    querypage = \"&e=--1980---2020--en-10--1--txt-txINtxCO-\"\n",
    "    query = querytoURL+\"------US---\"\n",
    "    url = urlbase+querypage+query\n",
    "    \n",
    "    page = urllib.request.urlopen(url)\n",
    "\n",
    "    soup = BeautifulSoup(page, \"lxml\")\n",
    "    \n",
    "    links = []\n",
    "    for row in soup.findAll('div', class_='elephind_querymaindiv'):\n",
    "        keys=row.findAll('a', href=True)\n",
    "        for i in keys:\n",
    "            k = i['href']\n",
    "            #tmp = k.replace('(','').replace(')','')\n",
    "            if len(k)>1:\n",
    "                links.append('https://elephind.com'+k)\n",
    "                break\n",
    "\n",
    "    return links"
   ]
  },
  {
   "cell_type": "code",
   "execution_count": 22,
   "metadata": {},
   "outputs": [
    {
     "name": "stdout",
     "output_type": "stream",
     "text": [
      "https://elephind.com/?a=p&p=redirect&vhttp=http%3a%2f%2fcdnc.ucr.edu%2fcgi-bin%2fcdnc%3fa%3dd%26d%3dDS19841208.2.166%26txq%3d%22REIT%22+OR+%22real+estate+investment+trust%22&vsource=UCR\n",
      "The links match if True: True\n"
     ]
    }
   ],
   "source": [
    "'''\n",
    "Let's give it a try!\n",
    "\n",
    "The following query should give us the very first link on the page\n",
    "'''\n",
    "truelink = 'https://elephind.com/?a=p&p=redirect&vhttp=http%3a%2f%2fcdnc.ucr.edu%2fcgi-bin%2fcdnc%3fa%3dd%26d%3dDS19841208.2.166%26txq%3d%22REIT%22+OR+%22real+estate+investment+trust%22&vsource=UCR'\n",
    "firstlink = get_elephindpage('\"REIT\"+OR+\"real+estate+investment+trust\"', 1,10)[0]\n",
    "print(firstlink)\n",
    "print('The links match if True:', firstlink==truelink)"
   ]
  },
  {
   "cell_type": "code",
   "execution_count": 178,
   "metadata": {
    "scrolled": true
   },
   "outputs": [
    {
     "name": "stdout",
     "output_type": "stream",
     "text": [
      "Number of links received: 1785\n"
     ]
    }
   ],
   "source": [
    "'''\n",
    "Now that the page scraper seems to work, lets see if we can get all the links from the database.\n",
    "\n",
    "Elephind says that there were 1785 results for the query.\n",
    "\n",
    "We'll start by looping as many times as we can, and stopping once there are no more links.\n",
    "'''\n",
    "all_links = []\n",
    "\n",
    "newlinks = True\n",
    "page = 1\n",
    "while newlinks:\n",
    "    #print('Page:', page, ', links so far: ', len(all_links))\n",
    "    nlinks = get_elephindpage('\"REIT\"+OR+\"real+estate+investment+trust\"', page,10)\n",
    "    if len(nlinks)>0:\n",
    "        for i in nlinks:\n",
    "            all_links.append(i)\n",
    "        page+=1\n",
    "    else:\n",
    "        newlinks = False\n",
    "        break\n",
    "print('Number of links received:', len(all_links))"
   ]
  },
  {
   "cell_type": "markdown",
   "metadata": {},
   "source": [
    "## Scraping the source text\n",
    "\n",
    "Now that we can get the list of all links, we have essentially created a 'crawler' for the Elephind page. The next step in finishing this ad hoc API is to create a scraping function for the pages.\n",
    "\n",
    "Once again we'll start by manually opening one link and inspecting it using the developer tools in our browser of choice. I'm using Chrome but any browser should do the trick.\n",
    "\n",
    "On the first link we get directed to cdnc.ucr.edu (we need to first GET the new URL) where we have the scanned article and the extracted text on the left panel under a div element with tag 'documentdisplayleftpanesectiontextcontainer'. Under this element we have a paragraph field ('p') where the text is located. There is a small problem with the text however. After inspecting the network log on the developer tools panel one can see that the text in the element is loaded using JS and AJAX, thus meaning that the field on the page we get is empty. This requires either using a browserAgent such as Selenium to wait for the AJAX to be called, or one can try to see the correct AJAX call from the network log. In this case I wanted to keep it simple and went on to find the correct URL to send the request to. The URL was https://cdnc.ucr.edu/?a=da&command=getSectionText&d=DS19841208.2.166&srpos=&f=XML&e=-------en--20--1--txt-txIN-%252522REIT%252522+OR+%252522real+estate+investment+trust%252522-------1\n",
    "\n",
    "Inspecting all the URLs shows that the document ID etc. is in the same format, making the parsing rather easy.\n",
    "\n",
    "Let's try to get the text from the first link.\n",
    "\n",
    "The text should be the following:\n",
    "\n",
    "<i>\"Option taken on building\n",
    "\n",
    "SAN FRANCISCO - California Real Estate Investment Trust has entered into an option agreement to sell its Caelus Memories Inc Building in San Jose As consideration for Cal REIT s commitment to sell the property, the purchaser made a nonrefundable option payment to Cal REIT of 525.000 on Nov 24, which will be applied toward the purchase price.\"</i>\n"
   ]
  },
  {
   "cell_type": "code",
   "execution_count": 221,
   "metadata": {},
   "outputs": [],
   "source": [
    "def cleanhtml(raw_html):\n",
    "    '''\n",
    "    Simple regex substitution for cleaning the html text\n",
    "    '''\n",
    "    cleanr = re.compile('<.*?>')\n",
    "    cleantext = re.sub(cleanr, ' ', raw_html)\n",
    "    return cleantext\n",
    "\n",
    "def scrape_oldnews(origurl):\n",
    "    '''\n",
    "    The original link from Elephind need redirecting, thus we need to first catch the correct URL on CDNC\n",
    "\n",
    "    '''\n",
    "    try:\n",
    "        response = requests.get(origurl, allow_redirects=True)\n",
    "        resplst = response.text.splitlines()\n",
    "        for i in resplst:\n",
    "            tmp = i.strip( )\n",
    "            if 'var vhttp' in tmp:\n",
    "                surl = tmp.split('\\'')[1].replace(' ','+')\n",
    "        rls = surl.split('&')\n",
    "\n",
    "        '''\n",
    "        A major problem with scraping the CDNC site using these tools is that the text is behind an AJAX call.\n",
    "\n",
    "        After a bit of digging using the browser dev tools and the network log I found the URL that gets the text on the left hand side.\n",
    "        '''\n",
    "        baseurl = rls[0].split('edu')[0]+'edu/'\n",
    "        newlist = [baseurl+'?a=da', 'command=getSectionText', rls[1], 'srpos=', 'f=XML', rls[2].replace('txq=','e=-------en--20--1--txt-txIN-').replace('\"','%252522')+'-------1' ]   \n",
    "        nurl = '&'.join(newlist)\n",
    "        #date from the URL\n",
    "        for cc in range(len(rls[1])):\n",
    "            if rls[1][cc].isdigit():\n",
    "                break\n",
    "        ndatestr = rls[1][cc:]\n",
    "        ndate = ndatestr[:4]+'-'+ndatestr[4:6]+'-'+ndatestr[6:8]\n",
    "        ttt = 'https://newspapers.bc.edu/?a=da&command=getSectionText&d=bcheights19900319.2.39&srpos=&f=XML&e=-------en-20--1--txt-txIN-%22REIT%22+OR+%22real+estate+investment+trust%22------'\n",
    "        '''\n",
    "        Now that the AJAX url is formed, we can get request the data\n",
    "        '''\n",
    "        response = requests.get(nurl)\n",
    "        ajaxGET = response.text\n",
    "        soup = BeautifulSoup(ajaxGET, \"lxml\")\n",
    "        tmptext = ''\n",
    "        for i in soup.findAll('sectiontext'):\n",
    "            tmptext = str(i.text)\n",
    "\n",
    "        return (ndate, cleanhtml(tmptext))\n",
    "    except:\n",
    "        print('Problem with URL: ', origurl)\n",
    "        return ('','')\n"
   ]
  },
  {
   "cell_type": "code",
   "execution_count": 214,
   "metadata": {},
   "outputs": [
    {
     "data": {
      "text/plain": [
       "('1984-12-08',\n",
       " ' Option taken on building  SAN FRANCISCO - California Real  Estate   Investment  Trust has entered into an option agreement to sell its Caelus Memories Inc Building in San Jose As consideration for Cal REIT s commitment to sell the property, the purchaser made a nonrefundable option payment to Cal REIT of 525.000 on Nov 24, which will be applied toward the purchase price. ')"
      ]
     },
     "execution_count": 214,
     "metadata": {},
     "output_type": "execute_result"
    }
   ],
   "source": [
    "'''\n",
    "Lets give this scraping trick a try.\n",
    "\n",
    "There are multiple libraries from which Elephind crawls from. Some examples:\n",
    "\n",
    "California: https://cdnc.ucr.edu/?a=da& command=getSectionText& d=DS19841208.2.166&srpos=&f=XML&e=-------en--20--1--txt-txIN-%252522REIT%252522+OR+%252522real+estate+investment+trust%252522-------1\n",
    "Boston: https://newspapers.bc.edu/?a=da&command=getSectionText&d=bcheights19900319.2.39&srpos=&f=XML&e=-------en-20--1--txt-txIN-%22REIT%22+OR+%22real+estate+investment+trust%22------\n",
    "'''\n",
    "blink = 'https://elephind.com/?a=p&p=redirect&vhttp=http%3a%2f%2fnewspapers.bc.edu%2fcgi-bin%2fbostonsh%3fa%3dd%26d%3dbcheights19900319.2.39%26txq%3d%22REIT%22+OR+%22real+estate+investment+trust%22&vsource=BC'\n",
    "scrape_oldnews(truelink)"
   ]
  },
  {
   "cell_type": "markdown",
   "metadata": {},
   "source": [
    "## Success so far!\n",
    "\n",
    "Let's make a short test with limited amount of articles using the functions created previously!\n"
   ]
  },
  {
   "cell_type": "code",
   "execution_count": 215,
   "metadata": {},
   "outputs": [
    {
     "name": "stdout",
     "output_type": "stream",
     "text": [
      "('1984-12-08', ' Option taken on building  SAN FRANCISCO - California Real  Estate   Investment  Trust has entered into an option agreement to sell its Caelus Memories Inc Building in San Jose As consideration for Cal REIT s commitment to sell the property, the purchaser made a nonrefundable option payment to Cal REIT of 525.000 on Nov 24, which will be applied toward the purchase price. ')\n",
      "--------------------\n",
      "('1987-01-24', \" REIT expects to reduce its distribution  SAN FRANCISCO - California Real  Estate   Investment  Trust this week reported that it expects to substantially reduce its distributions to shareholders during 1987 The trust’s annual distribution was $1.28 per share (32 cents per quarter) during 1986 Cal REIT currently expects to announce its  next quarterly distribution in late February. Cal REIT’s policy in determining the level of distributions to shareholders has been based on the trust’s anticipated operating earnings, together with profits from the sale of properties. Currently Rolling Oaks Plaza  (Thousand Oaks, Calif.) is the only Cal REIT property which is being offered for sale. This, together with weakened economic conditions and overbuilt real  estate  markets in Texas, where 50 percent of Cal REIT's portfolio is located, make it unlikely that the 1986 level of distributions can be maintained \")\n",
      "--------------------\n",
      "('1984-12-01', ' Option taken out  SAN FRANCISCO - California Real  Estate   Investment  Trust has entered into an option agreement to sell its Caelus Memories Inc. Building in San Jose, As consideration for Cal REIT’s commitment to sell the property, the purchaser made a non-refund-able option payment to Cal REIT of $25,000 on Nov. 24, which will be applied toward the purchase price. If the sale closes, Cal REIT will realize a capital gain of approximately $910,000 (31 cents per share). Escrow for the sale of the property is subject to the satisfaction of certain conditions. If these conditions are satisified, escrow for the sale of the property is expected to close on or before Dec. 14. Cal REIT currently invests in California and Texas. Its day-to-day operations are managed by Adams Capital Management Co., a management-owned real  estate  and property manager established in 1955, which currently manages over $lOO million in assets. Adams has offices in San Francisco and Sacrament, California, and in Dallas, Texas. ')\n",
      "--------------------\n",
      "('1985-01-11', ' Singer Company building sells for $1.45 million  SAN FRANCISCO - California Real  Estate   Investment  Trust (Cal REIT) has sold its Singer Co. building in Sunnyvale for $1,450,000 realizing a gam of $918,000 ($.32 per share). The all cash sale closed on Dec. 27. Cal REIT purchased this 38,400-square-foot special-purpose computer center facility in the Oakmead Industrial Park area in 1972 for $570,000 The sale to the San Francisco  Investment  Group was handled by Norman Nason of Saratoga  Investment  Co. This represents the third sale of real  estate  during 1984 Cal REIT currently invests in California and Texas. Its day-to-day operations are managed by Adams Capital Managment Co., a managent-owned real  estate  and property manager established in 1955, which currently manages over $lOO million in assets. ')\n",
      "--------------------\n",
      "('1985-02-23', \" Registration papers filed  SAN FRANCISCO - California Real  Estate   Investment  Trust has announced that it has filed a registration statement with the Securities and Exchange Commission in Washington, DC., covering an offering of 1,500,000 common shares of beneficial interest. The offering is being made by a syndicate of  investment  banking firms headed by Merrill Lynch Capital Markets. Cal REIT had assests of $35.4 million at Dec. 31, 1984 with revenues of $4 2 million and net income of $4.2 million for the year ended December 31, 1984, including $2 7 million of net income related to the gain on the sale of real  estate  The net proceeds from the sale of the shares will be added to the trust's general funds and used, together with internally generated funds, to invest, as suitable opportunities are identified, in various forms of real  estate,  including, but not limited to, real  estate  joint ventures and mortgages with an option to purchase an equity interest and in direct investments in real  estate.  Cal REIT is an equity real  estate   investment  trust that invests in a diversified portfolio of income-pro-ducing properties located in California and Texas. The current portfolio includes apartment complexes, research and development, light industrial and office/warehouse facilities, office and retail buildings, and a shopping center Its day-to-day operations are managed by Adams Capital Management Co., a management-owned real  estate  and property manager established in 1955, which currently manages over $lOO million in assets. \")\n",
      "--------------------\n",
      "('1985-06-03', \" Cal REIT to sell industrial building for capital gains  SAN FRANCISCO (BW) - California Real  Estate   Investment  Trust announced at its annual shareholders meeting that it has agreed to sell a 32,300-square-foot light industrial building located in San Jose. The trust acquired the property in 1973 and expects to report a $1,080,000 gam (23 cents per share) after related costs. Escrow for the sale is subject to the satisfaction of certain conditions. If these conditions are met, closing of escrow is expected this month The sale is part of Cal REIT's program of selling its matured, long-term investments in order to realize capital gains for its shareholders and reinvest in multi-tenant properties. It is anticipated that the gain realized will be distributed during 1985 lo the trust s shareholders as a capital gains dividend Shareholders representing 90,55 percent of the outstanding shares elected incumbent trustees Leon H Mayhew and Gary L. Marsh for a new three-year term expiring in 1988 \")\n",
      "--------------------\n",
      "('1985-01-18', ' Investors report mall occupancy  SAN FRANCISCO - California Real  Estate   Investment  Trust reports 100 percent occupancy at its Rolling Oaks Plaza Office Mall located in Thousand Oaks, Calif. This 30.500-square-foot office mall was purchased by the trust in 1975 as a specialty shopping mall and converted to an office mall in 1978 and 1979. The office mall has never been fully leased since it was constructed. As a result of leasing the remaining vacant space during 1984, the annualized fixed rental income from the office mall has increased to $347,300 from $282,800 in January 1984 Arthur S. Consoli of Equity Directions Inc., Phoenix, Ariz. manages the office mall for Cal REIT Cal REIT currently invests in California and Texas. Its day-to-day operations are managed by Adams Capital Management Co., a management-owned real  estate  and property manager established in 1955, which currently manages over $lOO million in assets. Adams has offices in San Francisco and Sacramento, and in Dallas, Texas. ')\n",
      "--------------------\n",
      "('1988-04-16', ' Stock exchange lists Dallas REIT  DALLAS - The New York Stock Exchange (NYSE) has accepted an application by American Realty Trust (ART), a Dallas-based, taxqualified real  estate   investment  trust, for listing its 21,817,913 shares for trading on that Exchange “We expect shares to begin trading April 19,\" said Joseph Grosz, president and chief operating officer of ART The firm, first listed for trading on the American Exchange in October 1969, will retain the trading symbol “ARB,” The company has an estimated float of 10 million shares and more than 5,100 shareholders Trading volume for the past month has averaged 19,000 shares a day. The 52-week price range is $3.25 to $6 a share. The stock closed on April 12 at $4.75. American Realty Trust, a hybrid mortgage/equity REIT operating nationwide, finances and acquires a full range of commercial real  estate,  concentrating on incomeproducing properties. ')\n",
      "--------------------\n",
      "('1987-02-21', ' Burnham to be listed  SAN DIEGO Burnham American Properties and Burnham Sleepy Hollow, two John Burnham and Co publicly traded real  estate  organizations will be listed on the NASDAQ National Market System (NMS) beginning Tuesday, according to Louis J Garday, president of both companies. Garday noted in addition to the increased market information provided by NMS, another advantage to being quoted on NASDAQ is the existence of multiple market makers competing with each other to execute customer orders instead of a single specialist on a stock exchange floor Burnham American Properties and Burnham Sleepy Hollow invest in Southern California commercial real  estate  properties. and both will convert to Real  Estate   Investment  Trust (REIT) status before mid-year ')\n",
      "--------------------\n"
     ]
    },
    {
     "name": "stdout",
     "output_type": "stream",
     "text": [
      "('1990-03-19', \" 80 Comm. Ave. named Riley Hall  The BC Office of Communication is pleased to announce that the dormitory located at 80 Commonwealth Avenue has been named Riley Hall. The Hall has been named after John M. Riley a continuously generous benefactor of BC. Mr. Riley, a native of Dover, Mass., received a Bachelor of Arts  degree in Philosophy from BC in 1956. Mr. Riley presently resides in Minneapolis, Minnesota where he is the Senior Managing Partner of Piper, Carraway, and Riley REIT (Real Estate Investment Trust). Mr. Riley's two children both attended and graduated from Boston College in the early eighties.  The next academic year will mark the inception of the Collinsworth Chair in the Department of Economics. The funding for the Chair will be provided primarily by the John M. Riley Trust Fund. The official invocation ceremony has been tentatively scheduled for Friday, April 27th. \")\n",
      "--------------------\n"
     ]
    }
   ],
   "source": [
    "# First page of our search\n",
    "links = get_elephindpage('\"REIT\"+OR+\"real+estate+investment+trust\"', 1,10)\n",
    "\n",
    "#For each link get the text\n",
    "news = []\n",
    "for lnk in links:\n",
    "    text = scrape_oldnews(lnk)\n",
    "    print(text)\n",
    "    print('-'*20)\n",
    "    news.append(text)"
   ]
  },
  {
   "cell_type": "markdown",
   "metadata": {},
   "source": [
    "## Full text crawl\n",
    "\n",
    "The following would result in creating a full dataset from the search and saving the text into a CSV file. If there are multiple empty fields, the scraper must be adjusted. Elephind indexes multiple sources which makes it difficult to adjust our method for any source. Luckily many of the sources use the same website structure."
   ]
  },
  {
   "cell_type": "code",
   "execution_count": 222,
   "metadata": {},
   "outputs": [],
   "source": [
    "import pandas as pd\n",
    "\n",
    "def get_fullhistory(query, fname, limit=None):\n",
    "    all_links = []\n",
    "    \n",
    "    newlinks = True\n",
    "    page = 1\n",
    "    while newlinks:\n",
    "        #print('Page:', page, ', links so far: ', len(all_links))\n",
    "        nlinks = get_elephindpage(query, page,10)\n",
    "        if len(nlinks)>0:\n",
    "            for i in nlinks:\n",
    "                all_links.append(i)\n",
    "            page+=1\n",
    "        else:\n",
    "            newlinks = False\n",
    "            break\n",
    "        if limit!=None:\n",
    "            if len(all_links)>=limit:\n",
    "                break\n",
    "    print('Number of links received:', len(all_links))\n",
    "    timestamps, newstexts = [], []\n",
    "    for lnk in all_links:\n",
    "        text = scrape_oldnews(lnk)\n",
    "        timestamps.append(text[0])\n",
    "        newstexts.append(text[1])\n",
    "    df = pd.DataFrame({'date':timestamps,'texts':newstexts}).to_csv(fname+'.csv')\n",
    "    return df\n"
   ]
  },
  {
   "cell_type": "code",
   "execution_count": 223,
   "metadata": {},
   "outputs": [
    {
     "name": "stdout",
     "output_type": "stream",
     "text": [
      "Number of links received: 20\n",
      "Problem with URL:  https://elephind.com/?a=p&p=redirect&vhttp=http%3a%2f%2ftexashistory.unt.edu%2fark%3a%2f67531%2fmetapth188167%2fm1%2f42%2fzoom%2f%3fq%3d%22REIT%22+OR+%22real+estate+investment+trust%22&vsource=TEXAS\n"
     ]
    }
   ],
   "source": [
    "get_fullhistory('\"REIT\"+OR+\"real+estate+investment+trust\"', 'testrun', 20)"
   ]
  },
  {
   "cell_type": "code",
   "execution_count": null,
   "metadata": {},
   "outputs": [],
   "source": []
  },
  {
   "cell_type": "code",
   "execution_count": null,
   "metadata": {},
   "outputs": [],
   "source": []
  }
 ],
 "metadata": {
  "kernelspec": {
   "display_name": "Python 3",
   "language": "python",
   "name": "python3"
  },
  "language_info": {
   "codemirror_mode": {
    "name": "ipython",
    "version": 3
   },
   "file_extension": ".py",
   "mimetype": "text/x-python",
   "name": "python",
   "nbconvert_exporter": "python",
   "pygments_lexer": "ipython3",
   "version": "3.7.4"
  }
 },
 "nbformat": 4,
 "nbformat_minor": 2
}
